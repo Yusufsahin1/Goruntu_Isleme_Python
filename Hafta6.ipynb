{
 "cells": [
  {
   "cell_type": "markdown",
   "id": "12a312d7",
   "metadata": {},
   "source": [
    "Bir görüntüyü 2 boyutlu evrişim matrisiyle bulanıklaştırma"
   ]
  },
  {
   "cell_type": "code",
   "execution_count": 2,
   "id": "b356e7b9",
   "metadata": {},
   "outputs": [],
   "source": [
    "# importing the modules needed\n",
    "import cv2\n",
    "import numpy as np\n",
    "\n",
    "# reading the image\n",
    "image = cv2.imread('image.png')\n",
    "\n",
    "# Creating the kerneI(2d convolution matrix)\n",
    "kernel1 = np.ones((5,5), np.float32)/25\n",
    "\n",
    "# Applying the filter2D() function\n",
    "img = cv2.filter2D(src=image, ddepth=-1, kernel=kernel1)\n",
    "\n",
    "# Showing the original and output image\n",
    "cv2.imshow('Original', image)\n",
    "cv2.imshow('Kernel Blur', img)\n",
    "\n",
    "cv2.waitKey( )\n",
    "cv2.destroyAllWindows ( )"
   ]
  },
  {
   "cell_type": "code",
   "execution_count": null,
   "id": "161fc60a",
   "metadata": {},
   "outputs": [],
   "source": []
  }
 ],
 "metadata": {
  "kernelspec": {
   "display_name": "Python 3 (ipykernel)",
   "language": "python",
   "name": "python3"
  },
  "language_info": {
   "codemirror_mode": {
    "name": "ipython",
    "version": 3
   },
   "file_extension": ".py",
   "mimetype": "text/x-python",
   "name": "python",
   "nbconvert_exporter": "python",
   "pygments_lexer": "ipython3",
   "version": "3.9.13"
  }
 },
 "nbformat": 4,
 "nbformat_minor": 5
}
