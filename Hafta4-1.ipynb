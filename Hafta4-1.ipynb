{
 "cells": [
  {
   "cell_type": "code",
   "execution_count": 1,
   "id": "af3c70b4",
   "metadata": {},
   "outputs": [],
   "source": [
    "import cv2\n",
    "import numpy as np"
   ]
  },
  {
   "cell_type": "code",
   "execution_count": 2,
   "id": "63257ce3",
   "metadata": {},
   "outputs": [],
   "source": [
    "resim1 = cv2.imread(\"brain.png\")"
   ]
  },
  {
   "cell_type": "code",
   "execution_count": 3,
   "id": "f7847f53",
   "metadata": {},
   "outputs": [],
   "source": [
    "cv2.imshow(\"Brain\", resim1)"
   ]
  },
  {
   "cell_type": "code",
   "execution_count": 4,
   "id": "833eb604",
   "metadata": {},
   "outputs": [
    {
     "name": "stdout",
     "output_type": "stream",
     "text": [
      "1974000\n"
     ]
    }
   ],
   "source": [
    "print(resim1.size)"
   ]
  },
  {
   "cell_type": "code",
   "execution_count": 5,
   "id": "a4bf9646",
   "metadata": {},
   "outputs": [
    {
     "name": "stdout",
     "output_type": "stream",
     "text": [
      "uint8\n"
     ]
    }
   ],
   "source": [
    "print(resim1.dtype)"
   ]
  },
  {
   "cell_type": "code",
   "execution_count": 6,
   "id": "4d943f94",
   "metadata": {},
   "outputs": [
    {
     "data": {
      "text/plain": [
       "(658, 1000, 3)"
      ]
     },
     "execution_count": 6,
     "metadata": {},
     "output_type": "execute_result"
    }
   ],
   "source": [
    "resim1.shape"
   ]
  },
  {
   "cell_type": "code",
   "execution_count": 7,
   "id": "2dd7b5f3",
   "metadata": {},
   "outputs": [
    {
     "data": {
      "text/plain": [
       "108"
      ]
     },
     "execution_count": 7,
     "metadata": {},
     "output_type": "execute_result"
    }
   ],
   "source": [
    "cv2.waitKey(0)"
   ]
  },
  {
   "cell_type": "code",
   "execution_count": 8,
   "id": "47b764a8",
   "metadata": {},
   "outputs": [],
   "source": [
    "cv2.destroyAllWindows()"
   ]
  },
  {
   "cell_type": "code",
   "execution_count": null,
   "id": "af6a2449",
   "metadata": {},
   "outputs": [],
   "source": []
  }
 ],
 "metadata": {
  "kernelspec": {
   "display_name": "Python 3 (ipykernel)",
   "language": "python",
   "name": "python3"
  },
  "language_info": {
   "codemirror_mode": {
    "name": "ipython",
    "version": 3
   },
   "file_extension": ".py",
   "mimetype": "text/x-python",
   "name": "python",
   "nbconvert_exporter": "python",
   "pygments_lexer": "ipython3",
   "version": "3.9.13"
  }
 },
 "nbformat": 4,
 "nbformat_minor": 5
}
