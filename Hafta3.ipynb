{
 "cells": [
  {
   "cell_type": "code",
   "execution_count": 1,
   "id": "6746a545",
   "metadata": {},
   "outputs": [],
   "source": [
    "import numpy as np"
   ]
  },
  {
   "cell_type": "code",
   "execution_count": 18,
   "id": "e3c08bdd",
   "metadata": {},
   "outputs": [],
   "source": [
    "matris1 = [[1,2,3],\n",
    "           [7,8,9]]\n",
    "#2x3 boyutlu matris"
   ]
  },
  {
   "cell_type": "code",
   "execution_count": 19,
   "id": "7c5441bf",
   "metadata": {},
   "outputs": [
    {
     "data": {
      "text/plain": [
       "[[1, 2, 3], [7, 8, 9]]"
      ]
     },
     "execution_count": 19,
     "metadata": {},
     "output_type": "execute_result"
    }
   ],
   "source": [
    "matris1"
   ]
  },
  {
   "cell_type": "code",
   "execution_count": 20,
   "id": "ae5d75a0",
   "metadata": {},
   "outputs": [
    {
     "data": {
      "text/plain": [
       "list"
      ]
     },
     "execution_count": 20,
     "metadata": {},
     "output_type": "execute_result"
    }
   ],
   "source": [
    "type(matris1)"
   ]
  },
  {
   "cell_type": "code",
   "execution_count": 21,
   "id": "8f070b30",
   "metadata": {},
   "outputs": [],
   "source": [
    "matris2 = np.array([[1,2,3],[7,8,9]])"
   ]
  },
  {
   "cell_type": "code",
   "execution_count": 22,
   "id": "1af4071f",
   "metadata": {},
   "outputs": [
    {
     "data": {
      "text/plain": [
       "array([[1, 2, 3],\n",
       "       [7, 8, 9]])"
      ]
     },
     "execution_count": 22,
     "metadata": {},
     "output_type": "execute_result"
    }
   ],
   "source": [
    "matris2"
   ]
  },
  {
   "cell_type": "code",
   "execution_count": 23,
   "id": "2add3f4f",
   "metadata": {},
   "outputs": [
    {
     "data": {
      "text/plain": [
       "numpy.ndarray"
      ]
     },
     "execution_count": 23,
     "metadata": {},
     "output_type": "execute_result"
    }
   ],
   "source": [
    "type(matris2)"
   ]
  },
  {
   "cell_type": "code",
   "execution_count": 24,
   "id": "ec5855e6",
   "metadata": {},
   "outputs": [],
   "source": [
    "zerosArray = np.zeros((3,4))"
   ]
  },
  {
   "cell_type": "code",
   "execution_count": 26,
   "id": "9d5677e3",
   "metadata": {},
   "outputs": [
    {
     "data": {
      "text/plain": [
       "array([[0., 0., 0., 0.],\n",
       "       [0., 0., 0., 0.],\n",
       "       [0., 0., 0., 0.]])"
      ]
     },
     "execution_count": 26,
     "metadata": {},
     "output_type": "execute_result"
    }
   ],
   "source": [
    "zerosArray"
   ]
  },
  {
   "cell_type": "code",
   "execution_count": 27,
   "id": "23838bf9",
   "metadata": {},
   "outputs": [],
   "source": [
    "onesArray = np.ones((2,5))"
   ]
  },
  {
   "cell_type": "code",
   "execution_count": 28,
   "id": "1f3c3466",
   "metadata": {},
   "outputs": [
    {
     "data": {
      "text/plain": [
       "array([[1., 1., 1., 1., 1.],\n",
       "       [1., 1., 1., 1., 1.]])"
      ]
     },
     "execution_count": 28,
     "metadata": {},
     "output_type": "execute_result"
    }
   ],
   "source": [
    "onesArray"
   ]
  },
  {
   "cell_type": "code",
   "execution_count": 33,
   "id": "7df7c816",
   "metadata": {},
   "outputs": [],
   "source": [
    "A = np.eye(4)"
   ]
  },
  {
   "cell_type": "code",
   "execution_count": 34,
   "id": "cf17bab2",
   "metadata": {},
   "outputs": [
    {
     "data": {
      "text/plain": [
       "array([[1., 0., 0., 0.],\n",
       "       [0., 1., 0., 0.],\n",
       "       [0., 0., 1., 0.],\n",
       "       [0., 0., 0., 1.]])"
      ]
     },
     "execution_count": 34,
     "metadata": {},
     "output_type": "execute_result"
    }
   ],
   "source": [
    "A"
   ]
  },
  {
   "cell_type": "code",
   "execution_count": 43,
   "id": "5d2aa512",
   "metadata": {},
   "outputs": [],
   "source": [
    "B = np.eye(6, k=2)\n",
    "# k 1'lerin yerini değiştirir"
   ]
  },
  {
   "cell_type": "code",
   "execution_count": 44,
   "id": "357ca2a5",
   "metadata": {},
   "outputs": [
    {
     "data": {
      "text/plain": [
       "array([[0., 0., 1., 0., 0., 0.],\n",
       "       [0., 0., 0., 1., 0., 0.],\n",
       "       [0., 0., 0., 0., 1., 0.],\n",
       "       [0., 0., 0., 0., 0., 1.],\n",
       "       [0., 0., 0., 0., 0., 0.],\n",
       "       [0., 0., 0., 0., 0., 0.]])"
      ]
     },
     "execution_count": 44,
     "metadata": {},
     "output_type": "execute_result"
    }
   ],
   "source": [
    "B"
   ]
  },
  {
   "cell_type": "code",
   "execution_count": 50,
   "id": "99325418",
   "metadata": {},
   "outputs": [],
   "source": [
    "C = np.eye(6, M=4)\n",
    "# M kolon sayısını değiştirmeye yarar"
   ]
  },
  {
   "cell_type": "code",
   "execution_count": 51,
   "id": "209d9b5a",
   "metadata": {},
   "outputs": [
    {
     "data": {
      "text/plain": [
       "array([[1., 0., 0., 0.],\n",
       "       [0., 1., 0., 0.],\n",
       "       [0., 0., 1., 0.],\n",
       "       [0., 0., 0., 1.],\n",
       "       [0., 0., 0., 0.],\n",
       "       [0., 0., 0., 0.]])"
      ]
     },
     "execution_count": 51,
     "metadata": {},
     "output_type": "execute_result"
    }
   ],
   "source": [
    "C"
   ]
  },
  {
   "cell_type": "code",
   "execution_count": 70,
   "id": "c73d33f0",
   "metadata": {},
   "outputs": [],
   "source": [
    "yeniMatris = np.matrix([[1,2],[3,4]])"
   ]
  },
  {
   "cell_type": "code",
   "execution_count": 71,
   "id": "83fa76a7",
   "metadata": {},
   "outputs": [
    {
     "data": {
      "text/plain": [
       "matrix([[1, 2],\n",
       "        [3, 4]])"
      ]
     },
     "execution_count": 71,
     "metadata": {},
     "output_type": "execute_result"
    }
   ],
   "source": [
    "yeniMatris"
   ]
  },
  {
   "cell_type": "code",
   "execution_count": 72,
   "id": "32a859ce",
   "metadata": {},
   "outputs": [
    {
     "data": {
      "text/plain": [
       "numpy.matrix"
      ]
     },
     "execution_count": 72,
     "metadata": {},
     "output_type": "execute_result"
    }
   ],
   "source": [
    "type(yeniMatris)"
   ]
  },
  {
   "cell_type": "code",
   "execution_count": 97,
   "id": "8f661cc5",
   "metadata": {},
   "outputs": [],
   "source": [
    "randomArray = np.random.randn(10)\n",
    "# ortalama değeri 0, standart sapması 1 olan 10 sayı (Gaussian(normal))"
   ]
  },
  {
   "cell_type": "code",
   "execution_count": 98,
   "id": "e69b373d",
   "metadata": {},
   "outputs": [
    {
     "data": {
      "text/plain": [
       "array([-0.82439508, -0.99023293, -1.47165208, -0.79361391,  0.46228349,\n",
       "       -2.22838289,  0.7813471 , -1.19133125, -1.92740961,  1.54233987])"
      ]
     },
     "execution_count": 98,
     "metadata": {},
     "output_type": "execute_result"
    }
   ],
   "source": [
    "randomArray"
   ]
  },
  {
   "cell_type": "code",
   "execution_count": 99,
   "id": "c06a4d19",
   "metadata": {},
   "outputs": [],
   "source": [
    "randomArray2 = np.random.randn(10,4)"
   ]
  },
  {
   "cell_type": "code",
   "execution_count": 100,
   "id": "98dad814",
   "metadata": {},
   "outputs": [
    {
     "data": {
      "text/plain": [
       "array([[-0.23803699, -1.39768319,  0.46885075, -0.05324663],\n",
       "       [ 0.38983457, -1.18933994,  0.20817859, -0.64070099],\n",
       "       [-0.20510746, -0.37244751,  1.66854618, -0.50685741],\n",
       "       [-1.10673004,  1.3451252 ,  1.128621  ,  0.30884359],\n",
       "       [ 0.88170771, -1.51351132,  1.11194061,  0.47253792],\n",
       "       [ 0.39505496,  1.6353311 , -0.65614371,  1.36690046],\n",
       "       [-0.68233744,  0.95209472,  0.28468466,  0.51158221],\n",
       "       [-0.87450957,  0.44876311,  1.20036045, -0.11695705],\n",
       "       [ 2.04857037, -0.07334563,  0.21622932,  0.34906627],\n",
       "       [ 1.04342638,  1.38894645, -1.14319354, -0.87157626]])"
      ]
     },
     "execution_count": 100,
     "metadata": {},
     "output_type": "execute_result"
    }
   ],
   "source": [
    "randomArray2"
   ]
  },
  {
   "cell_type": "code",
   "execution_count": 102,
   "id": "fe170111",
   "metadata": {},
   "outputs": [
    {
     "data": {
      "text/plain": [
       "array([0.63801212, 0.34338115, 0.14842109, 0.01491649, 0.87554511,\n",
       "       0.693384  , 0.91615018, 0.08370163, 0.79957966, 0.89745369])"
      ]
     },
     "execution_count": 102,
     "metadata": {},
     "output_type": "execute_result"
    }
   ],
   "source": [
    "np.random.rand(10)\n",
    "#0-1 aralığında eşit dağılımlı 10 sayı (uniform)"
   ]
  },
  {
   "cell_type": "code",
   "execution_count": null,
   "id": "26b0b440",
   "metadata": {},
   "outputs": [],
   "source": []
  }
 ],
 "metadata": {
  "kernelspec": {
   "display_name": "Python 3 (ipykernel)",
   "language": "python",
   "name": "python3"
  },
  "language_info": {
   "codemirror_mode": {
    "name": "ipython",
    "version": 3
   },
   "file_extension": ".py",
   "mimetype": "text/x-python",
   "name": "python",
   "nbconvert_exporter": "python",
   "pygments_lexer": "ipython3",
   "version": "3.9.13"
  }
 },
 "nbformat": 4,
 "nbformat_minor": 5
}
